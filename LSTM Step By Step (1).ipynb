{
 "cells": [
  {
   "cell_type": "code",
   "execution_count": 1,
   "id": "ed5c9a83-8371-4877-a17b-1b3a55eca306",
   "metadata": {},
   "outputs": [],
   "source": [
    "import numpy as np"
   ]
  },
  {
   "cell_type": "markdown",
   "id": "200a1dbd-7f99-459e-a09c-615b7334e087",
   "metadata": {},
   "source": [
    "## Forget Gate"
   ]
  },
  {
   "cell_type": "code",
   "execution_count": 2,
   "id": "1fa897e4-934d-476c-99e9-68c5f502bc48",
   "metadata": {},
   "outputs": [],
   "source": [
    "def sigmoid(x):\n",
    "    return 1/(1+np.exp(-x))"
   ]
  },
  {
   "cell_type": "code",
   "execution_count": 3,
   "id": "dfdc1f24-987d-4e5f-8870-f3d0df624286",
   "metadata": {},
   "outputs": [],
   "source": [
    "STM_HS = 1\n",
    "STM_HS_Weight = 1.53\n",
    "Input = 1\n",
    "Input_Weight = 0.87\n",
    "Bias = 1.46"
   ]
  },
  {
   "cell_type": "code",
   "execution_count": 4,
   "id": "e749f890-5bc0-45f9-8fce-6a916fa4d134",
   "metadata": {},
   "outputs": [
    {
     "data": {
      "text/plain": [
       "3.86"
      ]
     },
     "execution_count": 4,
     "metadata": {},
     "output_type": "execute_result"
    }
   ],
   "source": [
    "x = (STM_HS*STM_HS_Weight)+(Input*Input_Weight)+Bias\n",
    "x"
   ]
  },
  {
   "cell_type": "code",
   "execution_count": 5,
   "id": "a8026989-d3e0-49d3-a57e-a7de53fc1c99",
   "metadata": {},
   "outputs": [
    {
     "data": {
      "text/plain": [
       "0.9793667027730938"
      ]
     },
     "execution_count": 5,
     "metadata": {},
     "output_type": "execute_result"
    }
   ],
   "source": [
    "sigmoid(x)"
   ]
  },
  {
   "cell_type": "code",
   "execution_count": 6,
   "id": "d88e3ff5-d3a4-4005-a707-3bd0235232a9",
   "metadata": {},
   "outputs": [
    {
     "data": {
      "text/plain": [
       "1.9586"
      ]
     },
     "execution_count": 6,
     "metadata": {},
     "output_type": "execute_result"
    }
   ],
   "source": [
    "2 * 0.9793"
   ]
  },
  {
   "cell_type": "markdown",
   "id": "98f3cbb8-390b-4feb-8d0f-4911bd3c31fd",
   "metadata": {},
   "source": [
    "## --------------------------------------------------------------"
   ]
  },
  {
   "cell_type": "markdown",
   "id": "32437d0e-8585-4040-8291-65b23d6cf0cd",
   "metadata": {},
   "source": [
    "## Input Gate"
   ]
  },
  {
   "cell_type": "code",
   "execution_count": 7,
   "id": "a904be14-1b11-4339-a6b8-042323ab9765",
   "metadata": {},
   "outputs": [],
   "source": [
    "STM_HS = 1\n",
    "STM_HS_Weight = 0.99\n",
    "Input = 1\n",
    "Input_Weight = 1.72\n",
    "Bias = 0.91"
   ]
  },
  {
   "cell_type": "code",
   "execution_count": 8,
   "id": "bb226e9c-219a-4ddd-8a30-75cb2ade0a70",
   "metadata": {},
   "outputs": [
    {
     "data": {
      "text/plain": [
       "3.62"
      ]
     },
     "execution_count": 8,
     "metadata": {},
     "output_type": "execute_result"
    }
   ],
   "source": [
    "x = (STM_HS*STM_HS_Weight)+(Input*Input_Weight)+Bias\n",
    "x"
   ]
  },
  {
   "cell_type": "code",
   "execution_count": 9,
   "id": "aae5164f-fa8c-47e4-89a5-13059480ddda",
   "metadata": {},
   "outputs": [
    {
     "data": {
      "text/plain": [
       "0.973915924853617"
      ]
     },
     "execution_count": 9,
     "metadata": {},
     "output_type": "execute_result"
    }
   ],
   "source": [
    "sigmoid(x)"
   ]
  },
  {
   "attachments": {
    "b86af890-8c89-4a9c-959e-fca690becc54.png": {
     "image/png": "[encoded data removed]"
    }
   },
   "cell_type": "markdown",
   "id": "16993435-e43f-49db-9f4b-b080ddea453e",
   "metadata": {},
   "source": [
    "![image.png](attachment:b86af890-8c89-4a9c-959e-fca690becc54.png)"
   ]
  },
  {
   "cell_type": "code",
   "execution_count": 10,
   "id": "b223580e-9da1-4bb3-9ead-9d49454cc1f0",
   "metadata": {},
   "outputs": [],
   "source": [
    "def tanh(x):\n",
    "    return (np.exp(x)-np.exp(-x))/(np.exp(x)+np.exp(-x))"
   ]
  },
  {
   "cell_type": "code",
   "execution_count": 11,
   "id": "7f98a22d-f1ca-4dc8-bc75-b69ebb779457",
   "metadata": {},
   "outputs": [],
   "source": [
    "STM_HS = 1\n",
    "STM_HS_Weight = 1.66\n",
    "Input = 1\n",
    "Input_Weight = 2.21\n",
    "Bias = -1.17"
   ]
  },
  {
   "cell_type": "code",
   "execution_count": 12,
   "id": "f7516db3-7d46-4a14-9966-f44ddc07d8dd",
   "metadata": {},
   "outputs": [
    {
     "data": {
      "text/plain": [
       "2.7"
      ]
     },
     "execution_count": 12,
     "metadata": {},
     "output_type": "execute_result"
    }
   ],
   "source": [
    "x = (STM_HS*STM_HS_Weight)+(Input*Input_Weight)+Bias\n",
    "x"
   ]
  },
  {
   "cell_type": "code",
   "execution_count": 13,
   "id": "ce40ad9a-25e3-4d54-a82c-d226c56380d1",
   "metadata": {},
   "outputs": [
    {
     "data": {
      "text/plain": [
       "0.9910074536781175"
      ]
     },
     "execution_count": 13,
     "metadata": {},
     "output_type": "execute_result"
    }
   ],
   "source": [
    "tanh(x)"
   ]
  },
  {
   "cell_type": "code",
   "execution_count": 14,
   "id": "b08cc2cc-4c15-4e46-84a8-fbbc8d3807a7",
   "metadata": {},
   "outputs": [
    {
     "data": {
      "text/plain": [
       "0.9704862999999999"
      ]
     },
     "execution_count": 14,
     "metadata": {},
     "output_type": "execute_result"
    }
   ],
   "source": [
    "0.9793 * 0.991"
   ]
  },
  {
   "cell_type": "code",
   "execution_count": 15,
   "id": "17dfbc1d-0bae-4a8d-917c-7e2b8072bca4",
   "metadata": {},
   "outputs": [
    {
     "data": {
      "text/plain": [
       "2.9286"
      ]
     },
     "execution_count": 15,
     "metadata": {},
     "output_type": "execute_result"
    }
   ],
   "source": [
    "1.9586 + 0.97"
   ]
  },
  {
   "cell_type": "markdown",
   "id": "04405264-b78d-4c61-81ff-288797f40375",
   "metadata": {},
   "source": [
    "## ---------------------------------------------------------------"
   ]
  },
  {
   "cell_type": "code",
   "execution_count": 16,
   "id": "12f49df0-8ae7-4519-8078-4576603b95df",
   "metadata": {},
   "outputs": [],
   "source": [
    "STM_HS = 1\n",
    "STM_HS_Weight = 0.76\n",
    "Input = 1\n",
    "Input_Weight = 1.52\n",
    "Bias = 1.13"
   ]
  },
  {
   "cell_type": "code",
   "execution_count": 17,
   "id": "824c3c33-b54e-49d9-b9c4-ea3b4ca853a3",
   "metadata": {},
   "outputs": [
    {
     "data": {
      "text/plain": [
       "3.41"
      ]
     },
     "execution_count": 17,
     "metadata": {},
     "output_type": "execute_result"
    }
   ],
   "source": [
    "x = (STM_HS*STM_HS_Weight)+(Input*Input_Weight)+Bias\n",
    "x"
   ]
  },
  {
   "cell_type": "code",
   "execution_count": 18,
   "id": "90b87ccb-b7fa-4ad0-9995-d9d64cd39f34",
   "metadata": {},
   "outputs": [
    {
     "data": {
      "text/plain": [
       "0.9680156025104668"
      ]
     },
     "execution_count": 18,
     "metadata": {},
     "output_type": "execute_result"
    }
   ],
   "source": [
    "sigmoid(x)"
   ]
  },
  {
   "cell_type": "code",
   "execution_count": 19,
   "id": "1b4ea52e-ca22-4489-bc52-e5ca115cb4be",
   "metadata": {},
   "outputs": [],
   "source": [
    "LTM_CS = 2.928"
   ]
  },
  {
   "cell_type": "code",
   "execution_count": 20,
   "id": "c1d5fde6-46e9-42d7-b10e-9b0a2a011cf7",
   "metadata": {},
   "outputs": [
    {
     "data": {
      "text/plain": [
       "0.9942909999959855"
      ]
     },
     "execution_count": 20,
     "metadata": {},
     "output_type": "execute_result"
    }
   ],
   "source": [
    "tanh(LTM_CS)"
   ]
  },
  {
   "cell_type": "code",
   "execution_count": 21,
   "id": "bd06d472-b07e-4164-b2ac-b99972e8598e",
   "metadata": {},
   "outputs": [
    {
     "data": {
      "text/plain": [
       "0.9623856"
      ]
     },
     "execution_count": 21,
     "metadata": {},
     "output_type": "execute_result"
    }
   ],
   "source": [
    "0.968 * 0.9942"
   ]
  },
  {
   "cell_type": "code",
   "execution_count": null,
   "id": "e24f037c-aeb5-4bf8-a32a-055fe97b7c18",
   "metadata": {},
   "outputs": [],
   "source": []
  }
 ],
 "metadata": {
  "kernelspec": {
   "display_name": "Python 3 (ipykernel)",
   "language": "python",
   "name": "python3"
  },
  "language_info": {
   "codemirror_mode": {
    "name": "ipython",
    "version": 3
   },
   "file_extension": ".py",
   "mimetype": "text/x-python",
   "name": "python",
   "nbconvert_exporter": "python",
   "pygments_lexer": "ipython3",
   "version": "3.11.5"
  }
 },
 "nbformat": 4,
 "nbformat_minor": 5
}
